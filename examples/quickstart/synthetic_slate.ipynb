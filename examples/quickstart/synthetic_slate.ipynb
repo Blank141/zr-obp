{
 "cells": [
  {
   "cell_type": "markdown",
   "metadata": {},
   "source": [
    "# Quickstart Example with Synthetic Slate Bandit Data\n",
    "---\n",
    "This notebook provides an example of conducting OPE of several different evaluation policies with synthetic slate bandit feedback data.\n",
    "\n",
    "Our example with synthetic bandit data contains the follwoing four major steps:\n",
    "- (1) Synthetic Slate Data Generation\n",
    "- (2) Evaluation Policy Definition (Random Policy)\n",
    "- (3) Off-Policy Evaluation\n",
    "- (4) Evaluation of OPE Estimators\n",
    "\n",
    "The second step could be replaced by some Off-Policy Learning (OPL) step, but obp still does not implement any OPL module for slate bandit data.\n",
    "\n",
    "Please see [../examples/synthetic](../synthetic) for a more sophisticated example of the evaluation of OPE with synthetic slate bandit data."
   ]
  },
  {
   "cell_type": "code",
   "execution_count": 36,
   "metadata": {},
   "outputs": [],
   "source": [
    "import numpy as np\n",
    "import pandas as pd\n",
    "# import open bandit pipeline (obp)\n",
    "import obp\n",
    "\n",
    "from obp.ope import SlateStandardIPS, SlateIndependentIPS, SlateRecursiveIPS, SlateOffPolicyEvaluation\n",
    "from obp.dataset import (\n",
    "    logistic_reward_function,\n",
    "    linear_behavior_policy_logit,\n",
    "    SyntheticSlateBanditDataset,\n",
    ")"
   ]
  },
  {
   "cell_type": "code",
   "execution_count": 18,
   "metadata": {},
   "outputs": [],
   "source": [
    "from itertools import  product\n",
    "from copy import deepcopy"
   ]
  },
  {
   "cell_type": "code",
   "execution_count": 39,
   "metadata": {},
   "outputs": [],
   "source": [
    "import matplotlib.pyplot as plt\n",
    "import seaborn as sns"
   ]
  },
  {
   "cell_type": "code",
   "execution_count": 2,
   "metadata": {},
   "outputs": [
    {
     "name": "stdout",
     "output_type": "stream",
     "text": [
      "0.4.0\n"
     ]
    }
   ],
   "source": [
    "# obp version\n",
    "print(obp.__version__)"
   ]
  },
  {
   "cell_type": "markdown",
   "metadata": {},
   "source": [
    "## (1) Synthetic Slate Data Generation\n",
    "We prepare easy-to-use synthetic slate data generator: `SyntheticSlateBanditDataset` class in the dataset module.\n",
    "\n",
    "It takes the following arguments as inputs and generates a synthetic bandit dataset that can be used to evaluate the performance of decision making policies (obtained by `off-policy learning`) and OPE estimators.\n",
    "- length of a list of actions recommended in each slate. (`len_list`)\n",
    "- number of unique actions (`n_unique_actions`)\n",
    "- dimension of context vectors (`dim_context`)\n",
    "- reward type (`reward_type`)\n",
    "- reward structure (`reward_structure`)\n",
    "- click model (`click_model`)\n",
    "- base_reward function (`base_reward_function`)\n",
    "- behavior policy (`behavior_policy_function`) "
   ]
  },
  {
   "cell_type": "code",
   "execution_count": 3,
   "metadata": {
    "tags": []
   },
   "outputs": [
    {
     "name": "stderr",
     "output_type": "stream",
     "text": [
      "[sample_action_and_obtain_pscore]: 100%|██████████| 1000/1000 [00:52<00:00, 18.87it/s]\n"
     ]
    },
    {
     "data": {
      "text/plain": [
       "{'n_rounds': 1000,\n",
       " 'n_unique_action': 10,\n",
       " 'slate_id': array([  0,   0,   0, ..., 999, 999, 999]),\n",
       " 'context': array([[-0.20470766,  0.47894334],\n",
       "        [-0.51943872, -0.5557303 ],\n",
       "        [ 1.96578057,  1.39340583],\n",
       "        ...,\n",
       "        [ 1.26953635, -1.3414933 ],\n",
       "        [-0.29333288, -0.2424589 ],\n",
       "        [-3.05698974,  1.91840302]]),\n",
       " 'action_context': array([[1, 0, 0, 0, 0, 0, 0, 0, 0, 0],\n",
       "        [0, 1, 0, 0, 0, 0, 0, 0, 0, 0],\n",
       "        [0, 0, 1, 0, 0, 0, 0, 0, 0, 0],\n",
       "        [0, 0, 0, 1, 0, 0, 0, 0, 0, 0],\n",
       "        [0, 0, 0, 0, 1, 0, 0, 0, 0, 0],\n",
       "        [0, 0, 0, 0, 0, 1, 0, 0, 0, 0],\n",
       "        [0, 0, 0, 0, 0, 0, 1, 0, 0, 0],\n",
       "        [0, 0, 0, 0, 0, 0, 0, 1, 0, 0],\n",
       "        [0, 0, 0, 0, 0, 0, 0, 0, 1, 0],\n",
       "        [0, 0, 0, 0, 0, 0, 0, 0, 0, 1]]),\n",
       " 'action': array([7, 4, 2, ..., 1, 9, 2]),\n",
       " 'position': array([0, 1, 2, ..., 0, 1, 2]),\n",
       " 'reward': array([1, 0, 0, ..., 1, 0, 0]),\n",
       " 'expected_reward_factual': array([9.99929232e-01, 8.15725154e-04, 6.53987540e-01, ...,\n",
       "        9.99998964e-01, 1.22999808e-01, 4.68682096e-01]),\n",
       " 'pscore_cascade': array([0.09951976, 0.01501018, 0.00179284, ..., 0.06351948, 0.00918261,\n",
       "        0.0010469 ]),\n",
       " 'pscore': array([0.00179284, 0.00179284, 0.00179284, ..., 0.0010469 , 0.0010469 ,\n",
       "        0.0010469 ]),\n",
       " 'pscore_item_position': array([0.30102704, 0.39125143, 0.27916336, ..., 0.20084748, 0.32653511,\n",
       "        0.20084748])}"
      ]
     },
     "execution_count": 3,
     "metadata": {},
     "output_type": "execute_result"
    }
   ],
   "source": [
    "# generate a synthetic bandit dataset with 10 actions\n",
    "# we use `logistic function` as the reward function and `linear_behavior_policy` as the behavior policy.\n",
    "# one can define their own reward function and behavior policy such as nonlinear ones. \n",
    "\n",
    "n_unique_action=10\n",
    "len_list = 3\n",
    "dim_context = 2\n",
    "reward_type = \"binary\"\n",
    "reward_structure=\"cascade_additive\"\n",
    "click_model=None\n",
    "random_state=12345\n",
    "behavior_policy_function=linear_behavior_policy_logit\n",
    "base_reward_function=logistic_reward_function\n",
    "\n",
    "dataset = SyntheticSlateBanditDataset(\n",
    "    n_unique_action=n_unique_action,\n",
    "    len_list=len_list,\n",
    "    dim_context=dim_context,\n",
    "    reward_type=reward_type, # 'binary' or 'continuous'\n",
    "    reward_structure=reward_structure, # 'cascade_additive', 'cascade_exponential', 'independent', 'standard_additive', or 'standard_exponential'\n",
    "    click_model=click_model, # None, 'pbm', or 'cascade'\n",
    "    random_state=random_state,\n",
    "    behavior_policy_function=behavior_policy_function,\n",
    "    base_reward_function=base_reward_function,\n",
    ")\n",
    "# obtain training and test sets of synthetic logged bandit feedback\n",
    "n_rounds_test = 1000\n",
    "bandit_feedback_test = dataset.obtain_batch_bandit_feedback(n_rounds=n_rounds_test, return_pscore_item_position=True)\n",
    "\n",
    "# `bandit_feedback` is a dictionary storing synthetic logged bandit feedback\n",
    "bandit_feedback_test"
   ]
  },
  {
   "cell_type": "markdown",
   "metadata": {},
   "source": [
    "## (2) Evaluation Policy Definition (Off-Policy Learning)\n",
    " After generating synthetic data, we now define evaluation policy."
   ]
  },
  {
   "cell_type": "code",
   "execution_count": 4,
   "metadata": {},
   "outputs": [
    {
     "name": "stderr",
     "output_type": "stream",
     "text": [
      "[sample_action_and_obtain_pscore]: 100%|██████████| 1000/1000 [00:00<00:00, 4874.11it/s]\n"
     ]
    }
   ],
   "source": [
    "# define Uniform Random Policy as a baseline evaluation policy\n",
    "random_behavior_dataset = SyntheticSlateBanditDataset(\n",
    "    n_unique_action=n_unique_action,\n",
    "    len_list=len_list,\n",
    "    dim_context=dim_context,\n",
    "    reward_type=reward_type,\n",
    "    reward_structure=reward_structure,\n",
    "    click_model=click_model,\n",
    "    random_state=random_state,\n",
    "    behavior_policy_function=None,\n",
    "    base_reward_function=base_reward_function,\n",
    ")\n",
    "\n",
    "# compute the factual action choice probabililties for the test set of the synthetic logged bandit feedback\n",
    "random_behavior_feedback = random_behavior_dataset.obtain_batch_bandit_feedback(\n",
    "    n_rounds=n_rounds_test,\n",
    "    return_pscore_item_position=True,\n",
    "    return_exact_uniform_pscore_item_position=True\n",
    ")"
   ]
  },
  {
   "cell_type": "code",
   "execution_count": null,
   "metadata": {},
   "outputs": [],
   "source": []
  },
  {
   "cell_type": "markdown",
   "metadata": {},
   "source": [
    "## (3) Off-Policy Evaluation (OPE)\n",
    "Our next step is OPE which attempts to estimate the performance of evaluation policies using the logged bandit feedback and OPE estimators.\n",
    "\n",
    "Here, we use the **SlateStandardIPS (SIPS)**, **SlateIndependentIPS (IIPS)**, and **SlateRecursiveIPS (RIPS)** estimators and visualize the OPE results."
   ]
  },
  {
   "cell_type": "code",
   "execution_count": 5,
   "metadata": {
    "tags": []
   },
   "outputs": [],
   "source": [
    "# estimate the policy value of the evaluation policies based on their action choice probabilities\n",
    "# it is possible to set multiple OPE estimators to the `ope_estimators` argument\n",
    "\n",
    "sips = SlateStandardIPS(len_list=len_list)\n",
    "iips = SlateIndependentIPS(len_list=len_list)\n",
    "rips = SlateRecursiveIPS(len_list=len_list)\n",
    "\n",
    "ope = SlateOffPolicyEvaluation(\n",
    "    bandit_feedback=bandit_feedback_test,\n",
    "    ope_estimators=[sips, iips, rips]\n",
    ")"
   ]
  },
  {
   "cell_type": "code",
   "execution_count": 7,
   "metadata": {
    "tags": []
   },
   "outputs": [
    {
     "name": "stdout",
     "output_type": "stream",
     "text": [
      "          mean  95.0% CI (lower)  95.0% CI (upper)\n",
      "sips  1.816407          1.751910          1.881746\n",
      "iips  1.911399          1.867719          1.951868\n",
      "rips  1.830078          1.779988          1.886216 \n",
      "\n"
     ]
    },
    {
     "data": {
      "image/png": "[encoded data removed]",
      "text/plain": [
       "<Figure size 576x432 with 1 Axes>"
      ]
     },
     "metadata": {},
     "output_type": "display_data"
    }
   ],
   "source": [
    "# estimate the policy value of uniform random evaluation policy\n",
    "estimated_policy_value_a, estimated_interval_a = ope.summarize_off_policy_estimates(\n",
    "    evaluation_policy_pscore=random_behavior_feedback[\"pscore\"],\n",
    "    evaluation_policy_pscore_item_position=random_behavior_feedback[\"pscore_item_position\"],\n",
    "    evaluation_policy_pscore_cascade=random_behavior_feedback[\"pscore_cascade\"],\n",
    "    alpha=0.05,\n",
    "    n_bootstrap_samples=100,\n",
    "    random_state=12345\n",
    ")\n",
    "print(estimated_interval_a, '\\n')\n",
    "# visualize estimated policy values of Irandom evaluation policy by the three OPE estimators\n",
    "# and their 95% confidence intervals (estimated by nonparametric bootstrap method)\n",
    "ope.visualize_off_policy_estimates(\n",
    "    evaluation_policy_pscore=random_behavior_feedback[\"pscore\"],\n",
    "    evaluation_policy_pscore_item_position=random_behavior_feedback[\"pscore_item_position\"],\n",
    "    evaluation_policy_pscore_cascade=random_behavior_feedback[\"pscore_cascade\"],\n",
    "    alpha=0.05,\n",
    "    n_bootstrap_samples=100, # number of resampling performed in the bootstrap procedure\n",
    "    random_state=12345,\n",
    ")"
   ]
  },
  {
   "cell_type": "code",
   "execution_count": null,
   "metadata": {},
   "outputs": [],
   "source": []
  },
  {
   "cell_type": "markdown",
   "metadata": {},
   "source": [
    "We can observe that the variance of three estimators is as follows: `sips > rips > iips`."
   ]
  },
  {
   "cell_type": "code",
   "execution_count": null,
   "metadata": {},
   "outputs": [],
   "source": []
  },
  {
   "cell_type": "markdown",
   "metadata": {},
   "source": [
    "## (4) Evaluation of OPE estimators\n",
    "Our filan step is **the evaluation of OPE**, which evaluates and compares the estimation accuracy of OPE estimators.\n",
    "\n",
    "We obtain a policy value by generating synthetic dataset with the policy."
   ]
  },
  {
   "cell_type": "code",
   "execution_count": 9,
   "metadata": {
    "tags": []
   },
   "outputs": [
    {
     "name": "stdout",
     "output_type": "stream",
     "text": [
      "policy value of Behavior policy: 1.894\n",
      "policy value of Evaluation policy (Uniform Random): 1.858\n"
     ]
    }
   ],
   "source": [
    "# we first calculate the policy values of the three evaluation policies using the expected rewards of the test data\n",
    "policy_names = [\"Behavior policy\", \"Evaluation policy (Uniform Random)\"]\n",
    "for name, feedback in zip(policy_names, [bandit_feedback_test, random_behavior_feedback]):\n",
    "    true_policy_value = feedback[\"reward\"].sum() / np.unique(feedback[\"slate_id\"]).shape[0]\n",
    "    print(f'policy value of {name}: {true_policy_value}')"
   ]
  },
  {
   "cell_type": "markdown",
   "metadata": {},
   "source": [
    "Using the above policy values, we evaluate the estimation accuracy of the OPE estimators."
   ]
  },
  {
   "cell_type": "code",
   "execution_count": 10,
   "metadata": {},
   "outputs": [
    {
     "data": {
      "text/html": [
       "<div>\n",
       "<style scoped>\n",
       "    .dataframe tbody tr th:only-of-type {\n",
       "        vertical-align: middle;\n",
       "    }\n",
       "\n",
       "    .dataframe tbody tr th {\n",
       "        vertical-align: top;\n",
       "    }\n",
       "\n",
       "    .dataframe thead th {\n",
       "        text-align: right;\n",
       "    }\n",
       "</style>\n",
       "<table border=\"1\" class=\"dataframe\">\n",
       "  <thead>\n",
       "    <tr style=\"text-align: right;\">\n",
       "      <th></th>\n",
       "      <th>relative-ee</th>\n",
       "    </tr>\n",
       "  </thead>\n",
       "  <tbody>\n",
       "    <tr>\n",
       "      <th>sips</th>\n",
       "      <td>0.019897</td>\n",
       "    </tr>\n",
       "    <tr>\n",
       "      <th>iips</th>\n",
       "      <td>0.030333</td>\n",
       "    </tr>\n",
       "    <tr>\n",
       "      <th>rips</th>\n",
       "      <td>0.012113</td>\n",
       "    </tr>\n",
       "  </tbody>\n",
       "</table>\n",
       "</div>"
      ],
      "text/plain": [
       "      relative-ee\n",
       "sips     0.019897\n",
       "iips     0.030333\n",
       "rips     0.012113"
      ]
     },
     "execution_count": 10,
     "metadata": {},
     "output_type": "execute_result"
    }
   ],
   "source": [
    "# evaluate the estimation performances of OPE estimators \n",
    "# by comparing the estimated policy values of random policy and its ground-truth.\n",
    "# `summarize_estimators_comparison` returns a pandas dataframe containing estimation performances of given estimators \n",
    "relative_ee_for_random = ope.summarize_estimators_comparison(\n",
    "    ground_truth_policy_value=random_behavior_feedback[\"reward\"].sum() / np.unique(random_behavior_feedback[\"slate_id\"]).shape[0],\n",
    "    evaluation_policy_pscore=random_behavior_feedback[\"pscore\"],\n",
    "    evaluation_policy_pscore_item_position=random_behavior_feedback[\"pscore_item_position\"],\n",
    "    evaluation_policy_pscore_cascade=random_behavior_feedback[\"pscore_cascade\"],    \n",
    "    metric=\"relative-ee\", # \"relative-ee\" (relative estimation error) or \"se\" (squared error)\n",
    ")\n",
    "\n",
    "# estimation performances of the three estimators (lower means accurate)\n",
    "relative_ee_for_random"
   ]
  },
  {
   "cell_type": "markdown",
   "metadata": {},
   "source": [
    "We can observe that the performance of three estimators is as follows: `rips > sips > iips`."
   ]
  },
  {
   "cell_type": "markdown",
   "metadata": {},
   "source": [
    "Please see [../examples/synthetic](../synthetic) for a more sophisticated example of the evaluation of OPE with synthetic slate bandit data."
   ]
  },
  {
   "cell_type": "code",
   "execution_count": null,
   "metadata": {},
   "outputs": [],
   "source": []
  },
  {
   "cell_type": "code",
   "execution_count": null,
   "metadata": {},
   "outputs": [],
   "source": []
  },
  {
   "cell_type": "markdown",
   "metadata": {},
   "source": [
    "## (5) Advanced Evaluation of OPE Estimators using various types of reward assumptions"
   ]
  },
  {
   "cell_type": "markdown",
   "metadata": {},
   "source": [
    "The performance of slate OPE estimators could depend on the reward assumptions.\n",
    "1. With cascading reward structure, RIPS should perform best.\n",
    "2. With independent reward structure, IIPS should perform best.\n",
    "3. With standard reward structure, SIPS should perform best.\n",
    "\n",
    "The first hypothesis was observed in the previous section."
   ]
  },
  {
   "cell_type": "code",
   "execution_count": 11,
   "metadata": {},
   "outputs": [],
   "source": [
    "reward_structures = ['cascade_additive', 'cascade_exponential', 'independent', 'standard_additive',  'standard_exponential']\n",
    "click_models = [None, 'pbm', 'cascade']"
   ]
  },
  {
   "cell_type": "code",
   "execution_count": 16,
   "metadata": {},
   "outputs": [
    {
     "name": "stdout",
     "output_type": "stream",
     "text": [
      "cascade_additive None\n",
      "cascade_additive pbm\n",
      "cascade_additive cascade\n",
      "cascade_exponential None\n",
      "cascade_exponential pbm\n",
      "cascade_exponential cascade\n",
      "independent None\n",
      "independent pbm\n",
      "independent cascade\n",
      "standard_additive None\n",
      "standard_additive pbm\n",
      "standard_additive cascade\n",
      "standard_exponential None\n",
      "standard_exponential pbm\n",
      "standard_exponential cascade\n"
     ]
    }
   ],
   "source": [
    "for i, j in product(reward_structures, click_models[:]):\n",
    "    print(i, j)"
   ]
  },
  {
   "cell_type": "code",
   "execution_count": 32,
   "metadata": {},
   "outputs": [
    {
     "name": "stderr",
     "output_type": "stream",
     "text": [
      "[sample_action_and_obtain_pscore]: 100%|██████████| 1000/1000 [00:40<00:00, 24.49it/s]\n",
      "[sample_action_and_obtain_pscore]: 100%|██████████| 1000/1000 [00:40<00:00, 24.72it/s]\n",
      "[sample_action_and_obtain_pscore]: 100%|██████████| 1000/1000 [00:40<00:00, 24.62it/s]\n",
      "[sample_reward_of_cascade_model]: 100%|██████████| 1000/1000 [00:00<00:00, 935393.40it/s]\n",
      "[sample_action_and_obtain_pscore]: 100%|██████████| 1000/1000 [00:42<00:00, 23.79it/s]\n",
      "[sample_action_and_obtain_pscore]: 100%|██████████| 1000/1000 [00:41<00:00, 24.02it/s]\n",
      "[sample_action_and_obtain_pscore]: 100%|██████████| 1000/1000 [00:40<00:00, 24.73it/s]\n",
      "[sample_reward_of_cascade_model]: 100%|██████████| 1000/1000 [00:00<00:00, 926713.21it/s]\n",
      "[sample_action_and_obtain_pscore]: 100%|██████████| 1000/1000 [00:41<00:00, 24.12it/s]\n",
      "[sample_action_and_obtain_pscore]: 100%|██████████| 1000/1000 [00:40<00:00, 24.47it/s]\n",
      "[sample_action_and_obtain_pscore]: 100%|██████████| 1000/1000 [00:40<00:00, 24.82it/s]\n",
      "[sample_reward_of_cascade_model]: 100%|██████████| 1000/1000 [00:00<00:00, 921622.50it/s]\n",
      "[sample_action_and_obtain_pscore]: 100%|██████████| 1000/1000 [00:40<00:00, 24.81it/s]\n",
      "[sample_action_and_obtain_pscore]: 100%|██████████| 1000/1000 [00:40<00:00, 24.85it/s]\n",
      "[sample_action_and_obtain_pscore]: 100%|██████████| 1000/1000 [00:40<00:00, 24.97it/s]\n",
      "[sample_reward_of_cascade_model]: 100%|██████████| 1000/1000 [00:00<00:00, 918997.37it/s]\n",
      "[sample_action_and_obtain_pscore]: 100%|██████████| 1000/1000 [00:40<00:00, 24.84it/s]\n",
      "[sample_action_and_obtain_pscore]: 100%|██████████| 1000/1000 [00:40<00:00, 24.56it/s]\n",
      "[sample_action_and_obtain_pscore]: 100%|██████████| 1000/1000 [00:40<00:00, 24.71it/s]\n",
      "[sample_reward_of_cascade_model]: 100%|██████████| 1000/1000 [00:00<00:00, 902388.98it/s]\n"
     ]
    }
   ],
   "source": [
    "# generate a synthetic bandit dataset with 10 actions\n",
    "# we use `logistic function` as the reward function and `linear_behavior_policy` as the behavior policy.\n",
    "# we generate dataset with various types of reward structures and click models\n",
    "\n",
    "bandit_feedbacks = []\n",
    "\n",
    "for reward_structure, click_model in product(reward_structures, click_models):\n",
    "    dataset_ = SyntheticSlateBanditDataset(\n",
    "        n_unique_action=n_unique_action,\n",
    "        len_list=len_list,\n",
    "        dim_context=dim_context,\n",
    "        reward_type=reward_type, # 'binary' or 'continuous'\n",
    "        reward_structure=reward_structure, # 'cascade_additive', 'cascade_exponential', 'independent', 'standard_additive', or 'standard_exponential'\n",
    "        click_model=click_model, # None, 'pbm', or 'cascade'\n",
    "        random_state=random_state,\n",
    "        behavior_policy_function=behavior_policy_function,\n",
    "        base_reward_function=base_reward_function,\n",
    "    )\n",
    "    # obtain training and test sets of synthetic logged bandit feedback\n",
    "    n_rounds_test = 1000\n",
    "    bandit_feedback_test_ = dataset_.obtain_batch_bandit_feedback(n_rounds=n_rounds_test, return_pscore_item_position=True)\n",
    "    bandit_feedback_test_[\"reward_structure\"] = reward_structure\n",
    "    bandit_feedback_test_[\"click_model\"] = click_model\n",
    "\n",
    "    # `bandit_feedback` is a dictionary storing synthetic logged bandit feedback\n",
    "    bandit_feedbacks.append(deepcopy(bandit_feedback_test_))"
   ]
  },
  {
   "cell_type": "code",
   "execution_count": 33,
   "metadata": {},
   "outputs": [
    {
     "data": {
      "text/plain": [
       "15"
      ]
     },
     "execution_count": 33,
     "metadata": {},
     "output_type": "execute_result"
    }
   ],
   "source": [
    "len(bandit_feedbacks)"
   ]
  },
  {
   "cell_type": "code",
   "execution_count": 54,
   "metadata": {},
   "outputs": [
    {
     "name": "stderr",
     "output_type": "stream",
     "text": [
      "[sample_action_and_obtain_pscore]: 100%|██████████| 1000/1000 [00:00<00:00, 5144.67it/s]\n",
      "[sample_action_and_obtain_pscore]: 100%|██████████| 1000/1000 [00:00<00:00, 6126.32it/s]\n",
      "[sample_action_and_obtain_pscore]: 100%|██████████| 1000/1000 [00:00<00:00, 5870.10it/s]\n",
      "[sample_reward_of_cascade_model]: 100%|██████████| 1000/1000 [00:00<00:00, 922636.16it/s]\n",
      "[sample_action_and_obtain_pscore]: 100%|██████████| 1000/1000 [00:00<00:00, 6064.21it/s]\n",
      "[sample_action_and_obtain_pscore]: 100%|██████████| 1000/1000 [00:00<00:00, 5938.69it/s]\n",
      "[sample_action_and_obtain_pscore]: 100%|██████████| 1000/1000 [00:00<00:00, 6020.36it/s]\n",
      "[sample_reward_of_cascade_model]: 100%|██████████| 1000/1000 [00:00<00:00, 936437.60it/s]\n",
      "[sample_action_and_obtain_pscore]: 100%|██████████| 1000/1000 [00:00<00:00, 6186.96it/s]\n",
      "[sample_action_and_obtain_pscore]: 100%|██████████| 1000/1000 [00:00<00:00, 5953.98it/s]\n",
      "[sample_action_and_obtain_pscore]: 100%|██████████| 1000/1000 [00:00<00:00, 6110.33it/s]\n",
      "[sample_reward_of_cascade_model]: 100%|██████████| 1000/1000 [00:00<00:00, 950658.20it/s]\n",
      "[sample_action_and_obtain_pscore]: 100%|██████████| 1000/1000 [00:00<00:00, 6279.31it/s]\n",
      "[sample_action_and_obtain_pscore]: 100%|██████████| 1000/1000 [00:00<00:00, 6347.07it/s]\n",
      "[sample_action_and_obtain_pscore]: 100%|██████████| 1000/1000 [00:00<00:00, 6166.44it/s]\n",
      "[sample_reward_of_cascade_model]: 100%|██████████| 1000/1000 [00:00<00:00, 1003902.35it/s]\n",
      "[sample_action_and_obtain_pscore]: 100%|██████████| 1000/1000 [00:00<00:00, 6201.17it/s]\n",
      "[sample_action_and_obtain_pscore]: 100%|██████████| 1000/1000 [00:00<00:00, 6180.97it/s]\n",
      "[sample_action_and_obtain_pscore]: 100%|██████████| 1000/1000 [00:00<00:00, 6213.34it/s]\n",
      "[sample_reward_of_cascade_model]: 100%|██████████| 1000/1000 [00:00<00:00, 890699.51it/s]\n"
     ]
    }
   ],
   "source": [
    "# evaluate the estimation performances of OPE estimators with various types of reward assumptions\n",
    "# by comparing the estimated policy values of random policy and its ground-truth.\n",
    "# `summarize_estimators_comparison` returns a pandas dataframe containing estimation performances of given estimators \n",
    "\n",
    "estimated_policy_value_df = pd.DataFrame()\n",
    "\n",
    "for feedback in bandit_feedbacks:\n",
    "    ope_ = SlateOffPolicyEvaluation(\n",
    "        bandit_feedback=feedback,\n",
    "        ope_estimators=[sips, iips, rips]\n",
    "    )\n",
    "    # define Uniform Random Policy as a baseline evaluation policy\n",
    "    random_behavior_dataset_ = SyntheticSlateBanditDataset(\n",
    "        n_unique_action=n_unique_action,\n",
    "        len_list=len_list,\n",
    "        dim_context=dim_context,\n",
    "        reward_type=reward_type,\n",
    "        reward_structure=feedback[\"reward_structure\"],\n",
    "        click_model=feedback[\"click_model\"],\n",
    "        random_state=random_state,\n",
    "        behavior_policy_function=None,\n",
    "        base_reward_function=base_reward_function,\n",
    "    )\n",
    "\n",
    "    # compute the factual action choice probabililties for the test set of the synthetic logged bandit feedback\n",
    "    random_behavior_feedback_ = random_behavior_dataset_.obtain_batch_bandit_feedback(\n",
    "        n_rounds=n_rounds_test,\n",
    "        return_pscore_item_position=True,\n",
    "        return_exact_uniform_pscore_item_position=True\n",
    "    )\n",
    "    relative_ee_for_random = ope_.summarize_estimators_comparison(\n",
    "        ground_truth_policy_value=random_behavior_feedback_[\"reward\"].sum() / np.unique(random_behavior_feedback_[\"slate_id\"]).shape[0],\n",
    "        evaluation_policy_pscore=random_behavior_feedback_[\"pscore\"],\n",
    "        evaluation_policy_pscore_item_position=random_behavior_feedback_[\"pscore_item_position\"],\n",
    "        evaluation_policy_pscore_cascade=random_behavior_feedback_[\"pscore_cascade\"],    \n",
    "        metric=\"relative-ee\", # \"relative-ee\" (relative estimation error) or \"se\" (squared error)\n",
    "    )\n",
    "\n",
    "    # estimation performances of the three estimators (lower means accurate)\n",
    "    relative_ee_for_random\n",
    "    relative_ee_for_random[\"reward_structure\"] = feedback[\"reward_structure\"]\n",
    "    relative_ee_for_random[\"click_model\"] = feedback[\"click_model\"]\n",
    "    estimated_policy_value_df = pd.concat([estimated_policy_value_df, relative_ee_for_random])"
   ]
  },
  {
   "cell_type": "code",
   "execution_count": 55,
   "metadata": {},
   "outputs": [],
   "source": [
    "estimated_policy_value_df[\"reward_assumption\"] =\\\n",
    "    estimated_policy_value_df[\"reward_structure\"] + \"_\" + estimated_policy_value_df[\"click_model\"].fillna(\"None\")"
   ]
  },
  {
   "cell_type": "code",
   "execution_count": 56,
   "metadata": {
    "scrolled": false
   },
   "outputs": [
    {
     "data": {
      "text/html": [
       "<div>\n",
       "<style scoped>\n",
       "    .dataframe tbody tr th:only-of-type {\n",
       "        vertical-align: middle;\n",
       "    }\n",
       "\n",
       "    .dataframe tbody tr th {\n",
       "        vertical-align: top;\n",
       "    }\n",
       "\n",
       "    .dataframe thead th {\n",
       "        text-align: right;\n",
       "    }\n",
       "</style>\n",
       "<table border=\"1\" class=\"dataframe\">\n",
       "  <thead>\n",
       "    <tr style=\"text-align: right;\">\n",
       "      <th></th>\n",
       "      <th>relative-ee</th>\n",
       "      <th>reward_structure</th>\n",
       "      <th>click_model</th>\n",
       "      <th>reward_assumption</th>\n",
       "    </tr>\n",
       "  </thead>\n",
       "  <tbody>\n",
       "    <tr>\n",
       "      <th>sips</th>\n",
       "      <td>0.019897</td>\n",
       "      <td>cascade_additive</td>\n",
       "      <td>None</td>\n",
       "      <td>cascade_additive_None</td>\n",
       "    </tr>\n",
       "    <tr>\n",
       "      <th>iips</th>\n",
       "      <td>0.030333</td>\n",
       "      <td>cascade_additive</td>\n",
       "      <td>None</td>\n",
       "      <td>cascade_additive_None</td>\n",
       "    </tr>\n",
       "    <tr>\n",
       "      <th>rips</th>\n",
       "      <td>0.012113</td>\n",
       "      <td>cascade_additive</td>\n",
       "      <td>None</td>\n",
       "      <td>cascade_additive_None</td>\n",
       "    </tr>\n",
       "    <tr>\n",
       "      <th>sips</th>\n",
       "      <td>0.009804</td>\n",
       "      <td>cascade_additive</td>\n",
       "      <td>pbm</td>\n",
       "      <td>cascade_additive_pbm</td>\n",
       "    </tr>\n",
       "    <tr>\n",
       "      <th>iips</th>\n",
       "      <td>0.025440</td>\n",
       "      <td>cascade_additive</td>\n",
       "      <td>pbm</td>\n",
       "      <td>cascade_additive_pbm</td>\n",
       "    </tr>\n",
       "    <tr>\n",
       "      <th>rips</th>\n",
       "      <td>0.003346</td>\n",
       "      <td>cascade_additive</td>\n",
       "      <td>pbm</td>\n",
       "      <td>cascade_additive_pbm</td>\n",
       "    </tr>\n",
       "    <tr>\n",
       "      <th>sips</th>\n",
       "      <td>0.024432</td>\n",
       "      <td>cascade_additive</td>\n",
       "      <td>cascade</td>\n",
       "      <td>cascade_additive_cascade</td>\n",
       "    </tr>\n",
       "    <tr>\n",
       "      <th>iips</th>\n",
       "      <td>0.015792</td>\n",
       "      <td>cascade_additive</td>\n",
       "      <td>cascade</td>\n",
       "      <td>cascade_additive_cascade</td>\n",
       "    </tr>\n",
       "    <tr>\n",
       "      <th>rips</th>\n",
       "      <td>0.021359</td>\n",
       "      <td>cascade_additive</td>\n",
       "      <td>cascade</td>\n",
       "      <td>cascade_additive_cascade</td>\n",
       "    </tr>\n",
       "    <tr>\n",
       "      <th>sips</th>\n",
       "      <td>0.026002</td>\n",
       "      <td>cascade_exponential</td>\n",
       "      <td>None</td>\n",
       "      <td>cascade_exponential_None</td>\n",
       "    </tr>\n",
       "    <tr>\n",
       "      <th>iips</th>\n",
       "      <td>0.007195</td>\n",
       "      <td>cascade_exponential</td>\n",
       "      <td>None</td>\n",
       "      <td>cascade_exponential_None</td>\n",
       "    </tr>\n",
       "    <tr>\n",
       "      <th>rips</th>\n",
       "      <td>0.032554</td>\n",
       "      <td>cascade_exponential</td>\n",
       "      <td>None</td>\n",
       "      <td>cascade_exponential_None</td>\n",
       "    </tr>\n",
       "    <tr>\n",
       "      <th>sips</th>\n",
       "      <td>0.019743</td>\n",
       "      <td>cascade_exponential</td>\n",
       "      <td>pbm</td>\n",
       "      <td>cascade_exponential_pbm</td>\n",
       "    </tr>\n",
       "    <tr>\n",
       "      <th>iips</th>\n",
       "      <td>0.001239</td>\n",
       "      <td>cascade_exponential</td>\n",
       "      <td>pbm</td>\n",
       "      <td>cascade_exponential_pbm</td>\n",
       "    </tr>\n",
       "    <tr>\n",
       "      <th>rips</th>\n",
       "      <td>0.016810</td>\n",
       "      <td>cascade_exponential</td>\n",
       "      <td>pbm</td>\n",
       "      <td>cascade_exponential_pbm</td>\n",
       "    </tr>\n",
       "    <tr>\n",
       "      <th>sips</th>\n",
       "      <td>0.012319</td>\n",
       "      <td>cascade_exponential</td>\n",
       "      <td>cascade</td>\n",
       "      <td>cascade_exponential_cascade</td>\n",
       "    </tr>\n",
       "    <tr>\n",
       "      <th>iips</th>\n",
       "      <td>0.002504</td>\n",
       "      <td>cascade_exponential</td>\n",
       "      <td>cascade</td>\n",
       "      <td>cascade_exponential_cascade</td>\n",
       "    </tr>\n",
       "    <tr>\n",
       "      <th>rips</th>\n",
       "      <td>0.017700</td>\n",
       "      <td>cascade_exponential</td>\n",
       "      <td>cascade</td>\n",
       "      <td>cascade_exponential_cascade</td>\n",
       "    </tr>\n",
       "    <tr>\n",
       "      <th>sips</th>\n",
       "      <td>0.014014</td>\n",
       "      <td>independent</td>\n",
       "      <td>None</td>\n",
       "      <td>independent_None</td>\n",
       "    </tr>\n",
       "    <tr>\n",
       "      <th>iips</th>\n",
       "      <td>0.019070</td>\n",
       "      <td>independent</td>\n",
       "      <td>None</td>\n",
       "      <td>independent_None</td>\n",
       "    </tr>\n",
       "    <tr>\n",
       "      <th>rips</th>\n",
       "      <td>0.020076</td>\n",
       "      <td>independent</td>\n",
       "      <td>None</td>\n",
       "      <td>independent_None</td>\n",
       "    </tr>\n",
       "    <tr>\n",
       "      <th>sips</th>\n",
       "      <td>0.020100</td>\n",
       "      <td>independent</td>\n",
       "      <td>pbm</td>\n",
       "      <td>independent_pbm</td>\n",
       "    </tr>\n",
       "    <tr>\n",
       "      <th>iips</th>\n",
       "      <td>0.002053</td>\n",
       "      <td>independent</td>\n",
       "      <td>pbm</td>\n",
       "      <td>independent_pbm</td>\n",
       "    </tr>\n",
       "    <tr>\n",
       "      <th>rips</th>\n",
       "      <td>0.019755</td>\n",
       "      <td>independent</td>\n",
       "      <td>pbm</td>\n",
       "      <td>independent_pbm</td>\n",
       "    </tr>\n",
       "    <tr>\n",
       "      <th>sips</th>\n",
       "      <td>0.017512</td>\n",
       "      <td>independent</td>\n",
       "      <td>cascade</td>\n",
       "      <td>independent_cascade</td>\n",
       "    </tr>\n",
       "    <tr>\n",
       "      <th>iips</th>\n",
       "      <td>0.004047</td>\n",
       "      <td>independent</td>\n",
       "      <td>cascade</td>\n",
       "      <td>independent_cascade</td>\n",
       "    </tr>\n",
       "    <tr>\n",
       "      <th>rips</th>\n",
       "      <td>0.021702</td>\n",
       "      <td>independent</td>\n",
       "      <td>cascade</td>\n",
       "      <td>independent_cascade</td>\n",
       "    </tr>\n",
       "    <tr>\n",
       "      <th>sips</th>\n",
       "      <td>0.012963</td>\n",
       "      <td>standard_additive</td>\n",
       "      <td>None</td>\n",
       "      <td>standard_additive_None</td>\n",
       "    </tr>\n",
       "    <tr>\n",
       "      <th>iips</th>\n",
       "      <td>0.039357</td>\n",
       "      <td>standard_additive</td>\n",
       "      <td>None</td>\n",
       "      <td>standard_additive_None</td>\n",
       "    </tr>\n",
       "    <tr>\n",
       "      <th>rips</th>\n",
       "      <td>0.009082</td>\n",
       "      <td>standard_additive</td>\n",
       "      <td>None</td>\n",
       "      <td>standard_additive_None</td>\n",
       "    </tr>\n",
       "    <tr>\n",
       "      <th>sips</th>\n",
       "      <td>0.003356</td>\n",
       "      <td>standard_additive</td>\n",
       "      <td>pbm</td>\n",
       "      <td>standard_additive_pbm</td>\n",
       "    </tr>\n",
       "    <tr>\n",
       "      <th>iips</th>\n",
       "      <td>0.026764</td>\n",
       "      <td>standard_additive</td>\n",
       "      <td>pbm</td>\n",
       "      <td>standard_additive_pbm</td>\n",
       "    </tr>\n",
       "    <tr>\n",
       "      <th>rips</th>\n",
       "      <td>0.004365</td>\n",
       "      <td>standard_additive</td>\n",
       "      <td>pbm</td>\n",
       "      <td>standard_additive_pbm</td>\n",
       "    </tr>\n",
       "    <tr>\n",
       "      <th>sips</th>\n",
       "      <td>0.023264</td>\n",
       "      <td>standard_additive</td>\n",
       "      <td>cascade</td>\n",
       "      <td>standard_additive_cascade</td>\n",
       "    </tr>\n",
       "    <tr>\n",
       "      <th>iips</th>\n",
       "      <td>0.020314</td>\n",
       "      <td>standard_additive</td>\n",
       "      <td>cascade</td>\n",
       "      <td>standard_additive_cascade</td>\n",
       "    </tr>\n",
       "    <tr>\n",
       "      <th>rips</th>\n",
       "      <td>0.022853</td>\n",
       "      <td>standard_additive</td>\n",
       "      <td>cascade</td>\n",
       "      <td>standard_additive_cascade</td>\n",
       "    </tr>\n",
       "    <tr>\n",
       "      <th>sips</th>\n",
       "      <td>0.020141</td>\n",
       "      <td>standard_exponential</td>\n",
       "      <td>None</td>\n",
       "      <td>standard_exponential_None</td>\n",
       "    </tr>\n",
       "    <tr>\n",
       "      <th>iips</th>\n",
       "      <td>0.016684</td>\n",
       "      <td>standard_exponential</td>\n",
       "      <td>None</td>\n",
       "      <td>standard_exponential_None</td>\n",
       "    </tr>\n",
       "    <tr>\n",
       "      <th>rips</th>\n",
       "      <td>0.021864</td>\n",
       "      <td>standard_exponential</td>\n",
       "      <td>None</td>\n",
       "      <td>standard_exponential_None</td>\n",
       "    </tr>\n",
       "    <tr>\n",
       "      <th>sips</th>\n",
       "      <td>0.018715</td>\n",
       "      <td>standard_exponential</td>\n",
       "      <td>pbm</td>\n",
       "      <td>standard_exponential_pbm</td>\n",
       "    </tr>\n",
       "    <tr>\n",
       "      <th>iips</th>\n",
       "      <td>0.010897</td>\n",
       "      <td>standard_exponential</td>\n",
       "      <td>pbm</td>\n",
       "      <td>standard_exponential_pbm</td>\n",
       "    </tr>\n",
       "    <tr>\n",
       "      <th>rips</th>\n",
       "      <td>0.006106</td>\n",
       "      <td>standard_exponential</td>\n",
       "      <td>pbm</td>\n",
       "      <td>standard_exponential_pbm</td>\n",
       "    </tr>\n",
       "    <tr>\n",
       "      <th>sips</th>\n",
       "      <td>0.013323</td>\n",
       "      <td>standard_exponential</td>\n",
       "      <td>cascade</td>\n",
       "      <td>standard_exponential_cascade</td>\n",
       "    </tr>\n",
       "    <tr>\n",
       "      <th>iips</th>\n",
       "      <td>0.008924</td>\n",
       "      <td>standard_exponential</td>\n",
       "      <td>cascade</td>\n",
       "      <td>standard_exponential_cascade</td>\n",
       "    </tr>\n",
       "    <tr>\n",
       "      <th>rips</th>\n",
       "      <td>0.012978</td>\n",
       "      <td>standard_exponential</td>\n",
       "      <td>cascade</td>\n",
       "      <td>standard_exponential_cascade</td>\n",
       "    </tr>\n",
       "  </tbody>\n",
       "</table>\n",
       "</div>"
      ],
      "text/plain": [
       "      relative-ee      reward_structure click_model  \\\n",
       "sips     0.019897      cascade_additive        None   \n",
       "iips     0.030333      cascade_additive        None   \n",
       "rips     0.012113      cascade_additive        None   \n",
       "sips     0.009804      cascade_additive         pbm   \n",
       "iips     0.025440      cascade_additive         pbm   \n",
       "rips     0.003346      cascade_additive         pbm   \n",
       "sips     0.024432      cascade_additive     cascade   \n",
       "iips     0.015792      cascade_additive     cascade   \n",
       "rips     0.021359      cascade_additive     cascade   \n",
       "sips     0.026002   cascade_exponential        None   \n",
       "iips     0.007195   cascade_exponential        None   \n",
       "rips     0.032554   cascade_exponential        None   \n",
       "sips     0.019743   cascade_exponential         pbm   \n",
       "iips     0.001239   cascade_exponential         pbm   \n",
       "rips     0.016810   cascade_exponential         pbm   \n",
       "sips     0.012319   cascade_exponential     cascade   \n",
       "iips     0.002504   cascade_exponential     cascade   \n",
       "rips     0.017700   cascade_exponential     cascade   \n",
       "sips     0.014014           independent        None   \n",
       "iips     0.019070           independent        None   \n",
       "rips     0.020076           independent        None   \n",
       "sips     0.020100           independent         pbm   \n",
       "iips     0.002053           independent         pbm   \n",
       "rips     0.019755           independent         pbm   \n",
       "sips     0.017512           independent     cascade   \n",
       "iips     0.004047           independent     cascade   \n",
       "rips     0.021702           independent     cascade   \n",
       "sips     0.012963     standard_additive        None   \n",
       "iips     0.039357     standard_additive        None   \n",
       "rips     0.009082     standard_additive        None   \n",
       "sips     0.003356     standard_additive         pbm   \n",
       "iips     0.026764     standard_additive         pbm   \n",
       "rips     0.004365     standard_additive         pbm   \n",
       "sips     0.023264     standard_additive     cascade   \n",
       "iips     0.020314     standard_additive     cascade   \n",
       "rips     0.022853     standard_additive     cascade   \n",
       "sips     0.020141  standard_exponential        None   \n",
       "iips     0.016684  standard_exponential        None   \n",
       "rips     0.021864  standard_exponential        None   \n",
       "sips     0.018715  standard_exponential         pbm   \n",
       "iips     0.010897  standard_exponential         pbm   \n",
       "rips     0.006106  standard_exponential         pbm   \n",
       "sips     0.013323  standard_exponential     cascade   \n",
       "iips     0.008924  standard_exponential     cascade   \n",
       "rips     0.012978  standard_exponential     cascade   \n",
       "\n",
       "                 reward_assumption  \n",
       "sips         cascade_additive_None  \n",
       "iips         cascade_additive_None  \n",
       "rips         cascade_additive_None  \n",
       "sips          cascade_additive_pbm  \n",
       "iips          cascade_additive_pbm  \n",
       "rips          cascade_additive_pbm  \n",
       "sips      cascade_additive_cascade  \n",
       "iips      cascade_additive_cascade  \n",
       "rips      cascade_additive_cascade  \n",
       "sips      cascade_exponential_None  \n",
       "iips      cascade_exponential_None  \n",
       "rips      cascade_exponential_None  \n",
       "sips       cascade_exponential_pbm  \n",
       "iips       cascade_exponential_pbm  \n",
       "rips       cascade_exponential_pbm  \n",
       "sips   cascade_exponential_cascade  \n",
       "iips   cascade_exponential_cascade  \n",
       "rips   cascade_exponential_cascade  \n",
       "sips              independent_None  \n",
       "iips              independent_None  \n",
       "rips              independent_None  \n",
       "sips               independent_pbm  \n",
       "iips               independent_pbm  \n",
       "rips               independent_pbm  \n",
       "sips           independent_cascade  \n",
       "iips           independent_cascade  \n",
       "rips           independent_cascade  \n",
       "sips        standard_additive_None  \n",
       "iips        standard_additive_None  \n",
       "rips        standard_additive_None  \n",
       "sips         standard_additive_pbm  \n",
       "iips         standard_additive_pbm  \n",
       "rips         standard_additive_pbm  \n",
       "sips     standard_additive_cascade  \n",
       "iips     standard_additive_cascade  \n",
       "rips     standard_additive_cascade  \n",
       "sips     standard_exponential_None  \n",
       "iips     standard_exponential_None  \n",
       "rips     standard_exponential_None  \n",
       "sips      standard_exponential_pbm  \n",
       "iips      standard_exponential_pbm  \n",
       "rips      standard_exponential_pbm  \n",
       "sips  standard_exponential_cascade  \n",
       "iips  standard_exponential_cascade  \n",
       "rips  standard_exponential_cascade  "
      ]
     },
     "execution_count": 56,
     "metadata": {},
     "output_type": "execute_result"
    }
   ],
   "source": [
    "estimated_policy_value_df"
   ]
  },
  {
   "cell_type": "code",
   "execution_count": 57,
   "metadata": {},
   "outputs": [
    {
     "data": {
      "text/plain": [
       "(array([ 0,  1,  2,  3,  4,  5,  6,  7,  8,  9, 10, 11, 12, 13, 14]),\n",
       " [Text(0, 0, 'cascade_additive_None'),\n",
       "  Text(1, 0, 'cascade_additive_pbm'),\n",
       "  Text(2, 0, 'cascade_additive_cascade'),\n",
       "  Text(3, 0, 'cascade_exponential_None'),\n",
       "  Text(4, 0, 'cascade_exponential_pbm'),\n",
       "  Text(5, 0, 'cascade_exponential_cascade'),\n",
       "  Text(6, 0, 'independent_None'),\n",
       "  Text(7, 0, 'independent_pbm'),\n",
       "  Text(8, 0, 'independent_cascade'),\n",
       "  Text(9, 0, 'standard_additive_None'),\n",
       "  Text(10, 0, 'standard_additive_pbm'),\n",
       "  Text(11, 0, 'standard_additive_cascade'),\n",
       "  Text(12, 0, 'standard_exponential_None'),\n",
       "  Text(13, 0, 'standard_exponential_pbm'),\n",
       "  Text(14, 0, 'standard_exponential_cascade')])"
      ]
     },
     "execution_count": 57,
     "metadata": {},
     "output_type": "execute_result"
    },
    {
     "data": {
      "image/png": "[encoded data removed]",
      "text/plain": [
       "<Figure size 576x432 with 1 Axes>"
      ]
     },
     "metadata": {},
     "output_type": "display_data"
    }
   ],
   "source": [
    "plt.style.use(\"ggplot\")\n",
    "fig, ax = plt.subplots(figsize=(8, 6))\n",
    "sns.barplot(\n",
    "    data=estimated_policy_value_df.reset_index(),\n",
    "    hue=\"index\",\n",
    "    x=\"reward_assumption\",\n",
    "    y=\"relative-ee\",\n",
    "    ax=ax,\n",
    "    ci=None,\n",
    ")\n",
    "plt.xlabel(\"OPE Estimators\", fontsize=25)\n",
    "plt.ylabel(\n",
    "    f\"Relative-ee\", fontsize=20\n",
    ")\n",
    "plt.yticks(fontsize=15)\n",
    "plt.xticks(rotation=90, fontsize=15)"
   ]
  },
  {
   "cell_type": "markdown",
   "metadata": {},
   "source": [
    "Unfortunately, we cannot say that our hypotheses are true by this experiment.\n",
    "\n",
    "We are going to add `n_rounds` and run experiments by using various random seeds."
   ]
  },
  {
   "cell_type": "code",
   "execution_count": null,
   "metadata": {},
   "outputs": [],
   "source": []
  }
 ],
 "metadata": {
  "kernelspec": {
   "display_name": "Python 3",
   "language": "python",
   "name": "python3"
  },
  "language_info": {
   "codemirror_mode": {
    "name": "ipython",
    "version": 3
   },
   "file_extension": ".py",
   "mimetype": "text/x-python",
   "name": "python",
   "nbconvert_exporter": "python",
   "pygments_lexer": "ipython3",
   "version": "3.9.1"
  }
 },
 "nbformat": 4,
 "nbformat_minor": 2
}
