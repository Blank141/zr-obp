{
 "cells": [
  {
   "cell_type": "markdown",
   "source": [
    "# Quickstart Example with Off-Policy Learners\n",
    "---\n",
    "This notebook provides an example of several off-policy learning methods with synthetic bandit feedback data.\n",
    "\n",
    "The example consists of the follwoing four major steps:\n",
    "- (1) Generating Synthetic Data\n",
    "- (2) Off-Policy Learning\n",
    "- (3) Evaluation of Off-Policy Learners\n",
    "\n",
    "Please see [../examples/opl](../opl) for a more sophisticated example of the evaluation of off-policy learners with synthetic bandit data."
   ],
   "metadata": {}
  },
  {
   "cell_type": "code",
   "execution_count": null,
   "source": [
    "# needed on Colab\n",
    "# !pip install obp"
   ],
   "outputs": [],
   "metadata": {}
  },
  {
   "cell_type": "code",
   "execution_count": 1,
   "source": [
    "import numpy as np\n",
    "from sklearn.ensemble import RandomForestClassifier as RandomForest\n",
    "from sklearn.linear_model import LogisticRegression\n",
    "\n",
    "# import open bandit pipeline (obp)\n",
    "import obp\n",
    "from obp.dataset import (\n",
    "    SyntheticBanditDataset,\n",
    "    logistic_reward_function,\n",
    "    linear_reward_function,\n",
    "    linear_behavior_policy\n",
    ")\n",
    "from obp.policy import IPWLearner, NNPolicyLearner, Random\n",
    "from obp.ope import (\n",
    "    RegressionModel,\n",
    "    InverseProbabilityWeighting,\n",
    "    DirectMethod,\n",
    "    DoublyRobust,\n",
    ")"
   ],
   "outputs": [],
   "metadata": {}
  },
  {
   "cell_type": "code",
   "execution_count": 2,
   "source": [
    "# obp version\n",
    "print(obp.__version__)"
   ],
   "outputs": [
    {
     "output_type": "stream",
     "name": "stdout",
     "text": [
      "0.4.1\n"
     ]
    }
   ],
   "metadata": {}
  },
  {
   "cell_type": "code",
   "execution_count": null,
   "source": [],
   "outputs": [],
   "metadata": {}
  },
  {
   "cell_type": "markdown",
   "source": [
    "## (1) Generating Synthetic Data\n",
    "`obp.dataset.SyntheticBanditDataset` is an easy-to-use synthetic data generator.\n",
    "\n",
    "It takes \n",
    "- number of actions (`n_actions`, $|\\mathcal{A}|$)\n",
    "- dimension of context vectors (`dim_context`, $d$)\n",
    "- reward function (`reward_function`, $q(x,a)=\\mathbb{E}[r \\mid x,a]$)\n",
    "- behavior policy (`behavior_policy_function`, $\\pi_b(a|x)$) \n",
    "\n",
    "as inputs and generates a synthetic bandit dataset that can be used to evaluate the performance of decision making policies (obtained by `off-policy learning`) and OPE estimators."
   ],
   "metadata": {}
  },
  {
   "cell_type": "code",
   "execution_count": 6,
   "source": [
    "# generate a synthetic bandit dataset with 10 actions\n",
    "# we use `logistic function` as the reward function and `linear_behavior_policy` as the behavior policy.\n",
    "# one can define their own reward function and behavior policy such as nonlinear ones. \n",
    "dataset = SyntheticBanditDataset(\n",
    "    n_actions=10,\n",
    "    dim_context=5,\n",
    "    reward_type=\"binary\", # \"binary\" or \"continuous\"\n",
    "    reward_function=logistic_reward_function,\n",
    "    behavior_policy_function=linear_behavior_policy,\n",
    "    random_state=12345,\n",
    ")"
   ],
   "outputs": [],
   "metadata": {
    "tags": []
   }
  },
  {
   "cell_type": "code",
   "execution_count": 7,
   "source": [
    "# obtain training and test sets of synthetic logged bandit feedback\n",
    "n_rounds_train, n_rounds_test = 10000, 10000\n",
    "bandit_feedback_train = dataset.obtain_batch_bandit_feedback(n_rounds=n_rounds_train)\n",
    "bandit_feedback_test = dataset.obtain_batch_bandit_feedback(n_rounds=n_rounds_test)"
   ],
   "outputs": [],
   "metadata": {}
  },
  {
   "cell_type": "markdown",
   "source": [
    "the logged bandit feedback is collected by the behavior policy as follows.\n",
    "\n",
    "$ \\mathcal{D}_b := \\{(x_i,a_i,r_i)\\}_{i=1}^n$  where $(x,a,r) \\sim p(x)\\pi_b(a \\mid x)p(r \\mid x,a) $"
   ],
   "metadata": {}
  },
  {
   "cell_type": "code",
   "execution_count": 8,
   "source": [
    "# `bandit_feedback` is a dictionary storing synthetic logged bandit feedback\n",
    "bandit_feedback_train"
   ],
   "outputs": [
    {
     "output_type": "execute_result",
     "data": {
      "text/plain": [
       "{'n_rounds': 10000,\n",
       " 'n_actions': 10,\n",
       " 'context': array([[-0.20470766,  0.47894334, -0.51943872, -0.5557303 ,  1.96578057],\n",
       "        [ 1.39340583,  0.09290788,  0.28174615,  0.76902257,  1.24643474],\n",
       "        [ 1.00718936, -1.29622111,  0.27499163,  0.22891288,  1.35291684],\n",
       "        ...,\n",
       "        [-1.27028221,  0.80914602, -0.45084222,  0.47179511,  1.89401115],\n",
       "        [-0.68890924,  0.08857502, -0.56359347, -0.41135069,  0.65157486],\n",
       "        [ 0.51204121,  0.65384817, -1.98849253, -2.14429131, -0.34186901]]),\n",
       " 'action_context': array([[1, 0, 0, 0, 0, 0, 0, 0, 0, 0],\n",
       "        [0, 1, 0, 0, 0, 0, 0, 0, 0, 0],\n",
       "        [0, 0, 1, 0, 0, 0, 0, 0, 0, 0],\n",
       "        [0, 0, 0, 1, 0, 0, 0, 0, 0, 0],\n",
       "        [0, 0, 0, 0, 1, 0, 0, 0, 0, 0],\n",
       "        [0, 0, 0, 0, 0, 1, 0, 0, 0, 0],\n",
       "        [0, 0, 0, 0, 0, 0, 1, 0, 0, 0],\n",
       "        [0, 0, 0, 0, 0, 0, 0, 1, 0, 0],\n",
       "        [0, 0, 0, 0, 0, 0, 0, 0, 1, 0],\n",
       "        [0, 0, 0, 0, 0, 0, 0, 0, 0, 1]]),\n",
       " 'action': array([6, 3, 2, ..., 9, 3, 6]),\n",
       " 'position': None,\n",
       " 'reward': array([1, 1, 1, ..., 0, 1, 0]),\n",
       " 'expected_reward': array([[0.80210203, 0.73828559, 0.83199558, ..., 0.81190503, 0.70617705,\n",
       "         0.68985306],\n",
       "        [0.94119582, 0.93473317, 0.91345213, ..., 0.94140688, 0.93152449,\n",
       "         0.90132868],\n",
       "        [0.87248862, 0.67974991, 0.66965669, ..., 0.79229752, 0.82712978,\n",
       "         0.74923536],\n",
       "        ...,\n",
       "        [0.66717573, 0.81583571, 0.77012708, ..., 0.87757008, 0.57652468,\n",
       "         0.80629132],\n",
       "        [0.52526986, 0.39952563, 0.61892038, ..., 0.53610389, 0.49392728,\n",
       "         0.58408936],\n",
       "        [0.55375831, 0.11662199, 0.807396  , ..., 0.22532856, 0.42629292,\n",
       "         0.24120499]]),\n",
       " 'pscore': array([0.14065505, 0.11373945, 0.10335615, ..., 0.07250876, 0.11373945,\n",
       "        0.14065505])}"
      ]
     },
     "metadata": {},
     "execution_count": 8
    }
   ],
   "metadata": {}
  },
  {
   "cell_type": "code",
   "execution_count": null,
   "source": [],
   "outputs": [],
   "metadata": {}
  },
  {
   "cell_type": "markdown",
   "source": [
    "## (2) Off-Policy Learning\n",
    "After generating synthetic data, we now train some decision making policies using the training logged bandit data. <br>\n",
    "\n",
    "To train policies, we use\n",
    "\n",
    "- `obp.policy.NNPolicyLearner` (Neural Network Policy Learner)\n",
    "- `obp.policy.IPWLearner`\n",
    "\n",
    "For NN Learner, we use `obp.ope.DirectMethod`, `obp.ope.InverseProbabilityWeighting`, and `obp.ope.DoublyRobust` as its objective functions.\n",
    "For IPW Learner, we use *RandomForestClassifier* and *LogisticRegression* implemented in scikit-learn for base machine learning methods."
   ],
   "metadata": {}
  },
  {
   "cell_type": "markdown",
   "source": [
    "### (2-1) Obtaining a reward estimator\n",
    "A reward estimator $\\hat{q}(x,a)$ is needed to use model dependent estimators such as DM or DR as objective of NNPolicyLearner.\n",
    "\n",
    "$\\hat{q}(x,a) \\approx \\mathbb{E} [r \\mid x,a]$"
   ],
   "metadata": {}
  },
  {
   "cell_type": "code",
   "execution_count": 9,
   "source": [
    "# estimate the expected reward by using an ML model (Logistic Regression here)\n",
    "# the estimated rewards are used by model-dependent estimators such as DM and DR\n",
    "regression_model = RegressionModel(\n",
    "    n_actions=dataset.n_actions,\n",
    "    action_context=dataset.action_context,\n",
    "    base_model=LogisticRegression(random_state=12345),\n",
    ")"
   ],
   "outputs": [],
   "metadata": {}
  },
  {
   "cell_type": "code",
   "execution_count": 10,
   "source": [
    "estimated_rewards_by_reg_model = regression_model.fit_predict(\n",
    "    context=bandit_feedback_train[\"context\"],\n",
    "    action=bandit_feedback_train[\"action\"],\n",
    "    reward=bandit_feedback_train[\"reward\"],\n",
    "    n_folds=3, # use 3-fold cross-fitting\n",
    "    random_state=12345,\n",
    ")"
   ],
   "outputs": [],
   "metadata": {}
  },
  {
   "cell_type": "markdown",
   "source": [
    "please refer to https://arxiv.org/abs/2002.08536 about the details of the cross-fitting procedure."
   ],
   "metadata": {}
  },
  {
   "cell_type": "markdown",
   "source": [
    "### (2-2) Off-Policy Learning\n",
    "Then, a policy is trained by maximizing an OPE estimator as an objective function as follows.\n",
    "\n",
    "$$ \\hat{\\pi} \\in \\arg \\max_{\\pi \\in \\Pi} \\hat{V} (\\pi; \\mathcal{D}_{tr}) - \\lambda \\cdot \\Omega (\\pi)  $$\n",
    "\n",
    "where $\\mathcal{D}_{tr}$ is a training bandit dataset. $\\Omega (\\cdot)$ is a regularization term."
   ],
   "metadata": {}
  },
  {
   "cell_type": "code",
   "execution_count": 11,
   "source": [
    "# define DM\n",
    "dm = DirectMethod()\n",
    "\n",
    "# define NNPolicyLearner with DM as its objective function\n",
    "nn_dm = NNPolicyLearner(\n",
    "    n_actions=dataset.n_actions,\n",
    "    dim_context=dataset.dim_context,\n",
    "    off_policy_objective=dm.estimate_policy_value_tensor,\n",
    "    random_state=12345,\n",
    ")\n",
    "\n",
    "# train NNPolicyLearner on the training set of logged bandit data\n",
    "nn_dm.fit(\n",
    "    context=bandit_feedback_train[\"context\"],\n",
    "    action=bandit_feedback_train[\"action\"],\n",
    "    reward=bandit_feedback_train[\"reward\"],\n",
    "    estimated_rewards_by_reg_model=estimated_rewards_by_reg_model,\n",
    ")\n",
    "\n",
    "# obtains action choice probabilities for the test set of logged bandit data\n",
    "action_dist_nn_dm = nn_dm.predict_proba(context=bandit_feedback_test[\"context\"])"
   ],
   "outputs": [],
   "metadata": {}
  },
  {
   "cell_type": "code",
   "execution_count": 6,
   "source": [
    "# define IPW\n",
    "ipw = InverseProbabilityWeighting()\n",
    "\n",
    "# define NNPolicyLearner with IPW as its objective function\n",
    "nn_ipw = NNPolicyLearner(\n",
    "    n_actions=dataset.n_actions,\n",
    "    dim_context=dataset.dim_context,\n",
    "    off_policy_objective=ipw.estimate_policy_value_tensor,\n",
    "    random_state=12345,\n",
    ")\n",
    "\n",
    "# train NNPolicyLearner on the training set of logged bandit data\n",
    "nn_ipw.fit(\n",
    "    context=bandit_feedback_train[\"context\"],\n",
    "    action=bandit_feedback_train[\"action\"],\n",
    "    reward=bandit_feedback_train[\"reward\"],\n",
    "    pscore=bandit_feedback_train[\"pscore\"],\n",
    ")\n",
    "\n",
    "# obtains action choice probabilities for the test set of logged bandit data\n",
    "action_dist_nn_ipw = nn_ipw.predict_proba(context=bandit_feedback_test[\"context\"])"
   ],
   "outputs": [],
   "metadata": {}
  },
  {
   "cell_type": "code",
   "execution_count": 7,
   "source": [
    "# define DR\n",
    "dr = DoublyRobust()\n",
    "\n",
    "# define NNPolicyLearner with DR as its objective function\n",
    "nn_dr = NNPolicyLearner(\n",
    "    n_actions=dataset.n_actions,\n",
    "    dim_context=dataset.dim_context,\n",
    "    off_policy_objective=dr.estimate_policy_value_tensor,\n",
    "    random_state=12345,\n",
    ")\n",
    "\n",
    "# train NNPolicyLearner on the training set of logged bandit data\n",
    "nn_dr.fit(\n",
    "    context=bandit_feedback_train[\"context\"],\n",
    "    action=bandit_feedback_train[\"action\"],\n",
    "    reward=bandit_feedback_train[\"reward\"],\n",
    "    pscore=bandit_feedback_train[\"pscore\"],\n",
    "    estimated_rewards_by_reg_model=estimated_rewards_by_reg_model,\n",
    ")\n",
    "\n",
    "# obtains action choice probabilities for the test set of logged bandit data\n",
    "action_dist_nn_dr = nn_dr.predict_proba(context=bandit_feedback_test[\"context\"])"
   ],
   "outputs": [],
   "metadata": {}
  },
  {
   "cell_type": "code",
   "execution_count": 8,
   "source": [
    "# define IPWLearner with Logistic Regression as its base ML model\n",
    "ipw_lr = IPWLearner(\n",
    "    n_actions=dataset.n_actions,\n",
    "    base_classifier=LogisticRegression(C=100, random_state=12345)\n",
    ")\n",
    "\n",
    "# train IPWLearner on the training set of logged bandit data\n",
    "ipw_lr.fit(\n",
    "    context=bandit_feedback_train[\"context\"],\n",
    "    action=bandit_feedback_train[\"action\"],\n",
    "    reward=bandit_feedback_train[\"reward\"],\n",
    "    pscore=bandit_feedback_train[\"pscore\"]\n",
    ")\n",
    "\n",
    "# obtains action choice probabilities for the test set of logged bandit data\n",
    "action_dist_ipw_lr = ipw_lr.predict(context=bandit_feedback_test[\"context\"])"
   ],
   "outputs": [],
   "metadata": {
    "tags": []
   }
  },
  {
   "cell_type": "code",
   "execution_count": 9,
   "source": [
    "# define IPWLearner with Random Forest as its base ML model\n",
    "ipw_rf = IPWLearner(\n",
    "    n_actions=dataset.n_actions,\n",
    "    base_classifier=RandomForest(n_estimators=30, min_samples_leaf=10, random_state=12345)\n",
    ")\n",
    "\n",
    "# train IPWLearner on the training set of logged bandit data\n",
    "ipw_rf.fit(\n",
    "    context=bandit_feedback_train[\"context\"],\n",
    "    action=bandit_feedback_train[\"action\"],\n",
    "    reward=bandit_feedback_train[\"reward\"],\n",
    "    pscore=bandit_feedback_train[\"pscore\"]\n",
    ")\n",
    "\n",
    "# obtains action choice probabilities for the test set of logged bandit data\n",
    "action_dist_ipw_rf = ipw_rf.predict(context=bandit_feedback_test[\"context\"])"
   ],
   "outputs": [],
   "metadata": {
    "tags": []
   }
  },
  {
   "cell_type": "code",
   "execution_count": 10,
   "source": [
    "# define Uniform Random Policy as a baseline evaluation policy\n",
    "random = Random(n_actions=dataset.n_actions,)\n",
    "\n",
    "# compute the action choice probabililties for the test set of logged bandit data\n",
    "action_dist_random = random.compute_batch_action_dist(\n",
    "    n_rounds=bandit_feedback_test[\"n_rounds\"]\n",
    ")"
   ],
   "outputs": [],
   "metadata": {}
  },
  {
   "cell_type": "code",
   "execution_count": null,
   "source": [
    "# action_dist is a probability distribution over actions (can be deterministic)\n",
    "action_dist_ipw_lr[:, :, 0]"
   ],
   "outputs": [],
   "metadata": {}
  },
  {
   "cell_type": "code",
   "execution_count": null,
   "source": [],
   "outputs": [],
   "metadata": {}
  },
  {
   "cell_type": "markdown",
   "source": [
    "## (3) Evaluation of Off-Policy Learners\n",
    "Our final step is the evaluation and comparison of the off-policy learnres.\n",
    "\n",
    "With synthetic data, we can calculate the policy value of the off-policy learners as follows. \n",
    "\n",
    "$$V(\\pi_e) \\approx \\frac{1}{|\\mathcal{D}_{te}|} \\sum_{i=1}^{|\\mathcal{D}_{te}|} \\mathbb{E}_{a \\sim \\pi_e(a|x_i)} [q(x_i, a)], \\; \\, where \\; \\, q(x,a) := \\mathbb{E}_{r \\sim p(r|x,a)} [r]$$\n",
    "\n",
    "where $\\mathcal{D}_{te}$ is the test set of logged bandit data."
   ],
   "metadata": {}
  },
  {
   "cell_type": "code",
   "execution_count": 11,
   "source": [
    "# we calculate the policy values of the trained policies based on the expected rewards of the test data\n",
    "policy_names = [\n",
    "    \"NN Policy Learner with DM\",\n",
    "    \"NN Policy Learner with IPW\",\n",
    "    \"NN Policy Learner with DR\",\n",
    "    \"IPW Learner with Logistic Regression\",\n",
    "    \"IPW Learner with Random Forest\",\n",
    "    \"Unifrom Random\"\n",
    "]\n",
    "action_dist_list = [\n",
    "    action_dist_nn_dm,\n",
    "    action_dist_nn_ipw,\n",
    "    action_dist_nn_dr,\n",
    "    action_dist_ipw_lr,\n",
    "    action_dist_ipw_rf,\n",
    "    action_dist_random\n",
    "]\n",
    "for name, action_dist in zip(policy_names, action_dist_list):\n",
    "    true_policy_value = dataset.calc_ground_truth_policy_value(\n",
    "        expected_reward=bandit_feedback_test[\"expected_reward\"],\n",
    "        action_dist=action_dist,\n",
    "    )\n",
    "    print(f'policy value of {name}: {true_policy_value}')"
   ],
   "outputs": [
    {
     "output_type": "stream",
     "name": "stdout",
     "text": [
      "policy value of NN Policy Learner with DM: 0.6785771195516228\n",
      "policy value of NN Policy Learner with IPW: 0.7429362678096227\n",
      "policy value of NN Policy Learner with DR: 0.7651217293062053\n",
      "policy value of IPW Learner with Logistic Regression: 0.767614655337475\n",
      "policy value of IPW Learner with Random Forest: 0.703809241480009\n",
      "policy value of Unifrom Random: 0.6043385526445931\n"
     ]
    }
   ],
   "metadata": {
    "tags": []
   }
  },
  {
   "cell_type": "markdown",
   "source": [
    "In fact, IPW Learner with Logistic Regression is the best, and NN Policy Learner with DR is the second."
   ],
   "metadata": {}
  },
  {
   "cell_type": "markdown",
   "source": [
    "We can iterate the above process several times to get more relibale results.\n",
    "\n",
    "Please see [../examples/opl](../opl) for a more sophisticated example of the evaluation of off-policy learners with synthetic bandit data."
   ],
   "metadata": {}
  },
  {
   "cell_type": "code",
   "execution_count": null,
   "source": [],
   "outputs": [],
   "metadata": {}
  }
 ],
 "metadata": {
  "kernelspec": {
   "name": "python3",
   "display_name": "Python 3.8.2 64-bit ('3.8.2': pyenv)"
  },
  "language_info": {
   "codemirror_mode": {
    "name": "ipython",
    "version": 3
   },
   "file_extension": ".py",
   "mimetype": "text/x-python",
   "name": "python",
   "nbconvert_exporter": "python",
   "pygments_lexer": "ipython3",
   "version": "3.8.2"
  },
  "interpreter": {
   "hash": "a588998c237fcc28dc215a10a422972d26151263dec0bff02e1a95f6e2b22b77"
  }
 },
 "nbformat": 4,
 "nbformat_minor": 2
}